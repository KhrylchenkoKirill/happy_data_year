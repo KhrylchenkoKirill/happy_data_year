{
 "cells": [
  {
   "cell_type": "markdown",
   "metadata": {},
   "source": [
    "### Примечание автора\n",
    "\n",
    "Здесь опять же применяются операции, воспроизводимость которых не может быть гарантирована из-за обращения к геокодеру яндекса и к OSM, поэтому результат работы данных блоков в точности имеет путь ./data/prep/data.csv\n",
    "\n",
    "Полученные по OSM данные также лежать в папке ./data/prep"
   ]
  },
  {
   "cell_type": "code",
   "execution_count": 5,
   "metadata": {},
   "outputs": [],
   "source": [
    "import numpy as np, pandas as pd\n",
    "from math import sin, cos, sqrt, atan2, radians\n",
    "import json, re, gc, pickle, overpass\n",
    "\n",
    "from tqdm import tqdm_notebook\n",
    "from sklearn.neighbors import NearestNeighbors\n",
    "\n",
    "R = 6373.0 # радиус земли в километрах\n",
    "\n",
    "def distance(x,y):\n",
    "    lat_a, long_a, lat_b, long_b = map(radians, [*x,*y])    \n",
    "    dlon = long_b - long_a\n",
    "    dlat = lat_b - lat_a\n",
    "    a = sin(dlat / 2.)**2 + cos(lat_a) * cos(lat_b) * sin(dlon / 2.)**2\n",
    "    c = 2 * atan2(sqrt(a), sqrt(1 - a))\n",
    "    return R * c"
   ]
  },
  {
   "cell_type": "markdown",
   "metadata": {},
   "source": [
    "### Считывание исходных данных"
   ]
  },
  {
   "cell_type": "code",
   "execution_count": 2,
   "metadata": {},
   "outputs": [],
   "source": [
    "train = pd.read_csv(\"./data/init_train.csv\")\n",
    "test = pd.read_csv(\"./data/init_test.csv\")\n",
    "\n",
    "for df in [train, test]:\n",
    "    df.drop('Unnamed: 0', axis=1, inplace=True)\n",
    "    df.rename({'atm_group':'group'}, axis=1, inplace=True)\n",
    "    \n",
    "train['isTrain'] = True\n",
    "test['isTrain'] = False\n",
    "\n",
    "data = train.append(test, sort=False).reset_index(drop=True)\n",
    "data['loc_null'] = data[['lat', 'long']].isnull().any(axis=1).astype(int)\n",
    "firms_ids = data[['lat', 'long']].isnull().any(axis=1)"
   ]
  },
  {
   "cell_type": "markdown",
   "metadata": {},
   "source": [
    "### Нахождение пропущенных геолокаций с помощью Яндекса"
   ]
  },
  {
   "cell_type": "code",
   "execution_count": 4,
   "metadata": {},
   "outputs": [
    {
     "data": {
      "application/vnd.jupyter.widget-view+json": {
       "model_id": "62fa63e814d8495cb2654e019480e376",
       "version_major": 2,
       "version_minor": 0
      },
      "text/html": [
       "<p>Failed to display Jupyter Widget of type <code>HBox</code>.</p>\n",
       "<p>\n",
       "  If you're reading this message in the Jupyter Notebook or JupyterLab Notebook, it may mean\n",
       "  that the widgets JavaScript is still loading. If this message persists, it\n",
       "  likely means that the widgets JavaScript library is either not installed or\n",
       "  not enabled. See the <a href=\"https://ipywidgets.readthedocs.io/en/stable/user_install.html\">Jupyter\n",
       "  Widgets Documentation</a> for setup instructions.\n",
       "</p>\n",
       "<p>\n",
       "  If you're reading this message in another frontend (for example, a static\n",
       "  rendering on GitHub or <a href=\"https://nbviewer.jupyter.org/\">NBViewer</a>),\n",
       "  it may mean that your frontend doesn't currently support widgets.\n",
       "</p>\n"
      ],
      "text/plain": [
       "HBox(children=(IntProgress(value=0, max=420), HTML(value='')))"
      ]
     },
     "metadata": {},
     "output_type": "display_data"
    }
   ],
   "source": [
    "from yandex_geocoder import Client\n",
    "\n",
    "coords = dict()  # (longitude, latitude)\n",
    "errors = []\n",
    "for row in tqdm_notebook(data[firms_ids]['address'].values, leave=False):\n",
    "    try: \n",
    "        coords[row] = Client.coordinates(row) # returns (longitude, latitude)\n",
    "    except Exception as e:\n",
    "        errors.append(row)\n",
    "        \n",
    "def get_lat(x):\n",
    "    if x not in coords:\n",
    "        return np.nan\n",
    "    else:\n",
    "        return coords[x][1]\n",
    "    \n",
    "def get_long(x):\n",
    "    if x not in coords:\n",
    "        return np.nan\n",
    "    else:\n",
    "        return coords[x][0]\n",
    "    \n",
    "data.loc[firms_ids, 'lat'] = data[firms_ids]['address'].map(lambda x: get_lat(x))\n",
    "data.loc[firms_ids, 'long'] = data[firms_ids]['address'].map(lambda x: get_long(x))\n",
    "\n",
    "data[['lat', 'long']] = data[['lat', 'long']].astype(float)"
   ]
  },
  {
   "cell_type": "markdown",
   "metadata": {},
   "source": [
    "### Неправильно найденные локации и отсутствующие локации\n",
    "\n",
    "Вбиваем ручками"
   ]
  },
  {
   "cell_type": "code",
   "execution_count": 7,
   "metadata": {},
   "outputs": [],
   "source": [
    "text2coord = { \n",
    "    'ABB 6B NAB-CHELNINSKIJ    NAB.CHELNY  ': (55.708725, 52.357388), #(широта, долгота)\n",
    "    'D. 23, KORP. 1, UL. MATRO BIYSK G     ': (52.497357, 85.146107),\n",
    "    'D. 33, PR-KT KOMMUNISTICH YUZHNO-SAKHA': (46.959107, 142.741459),\n",
    "    'ABB 111 KRASNOARMEJSK.    JOSHKAR-OLA ': (56.644487, 47.858328),\n",
    "    '49 CHERNOISTOCHENSKOE H/W NIZHNIY TAGI': (57.869815, 59.942484),\n",
    "    'ABB 158 KRASNOKOKSH-AYA   KAZAN       ': (55.818886, 49.059734),\n",
    "    \"D. 118/11, UL. BOL'SHAYA  YAROSLAVL G \": (57.621632, 39.861428),\n",
    "    'G. ELEC, UL. RADIOT       ELEC        ': (55.781888, 38.443663),\n",
    "    \n",
    "    'D. 19, LIT. V, PER. 4-I V PARGOLOVO P ': (60.077258, 30.249680),\n",
    "    'SOVETSKAYA 25             S. MAYA     ': (57.813974, 28.333614),\n",
    "    'V/CH. 06987               ENGELS G    ': (51.487954, 46.207807),\n",
    "    'D. 22, PR-KT MASHINOSTROI YAROSLAVL G ': (57.649540, 39.948891),\n",
    "    \n",
    "    '133A MOZHAYSKOE H/W.      MOSCOW      ': (55.686902, 37.296845),\n",
    "    'UNKNOWN                   DZERZHINSK G': (56.240710, 43.464212),\n",
    "    'D. 76, PR-KT TRAKTOROSTRO CHEBOXARY G ': (56.109195, 47.330258),\n",
    "    \"D. 133, UL. BRAT'EV KASHI CHELYABINSK \": (55.172154, 61.305321),\n",
    "    \"D. 30, UL. BOL'SHAYA MORS SANKT-PETERB\": (59.933873, 30.312974),\n",
    "    \"D. 2, UL. KORABEL'NAYA NA VLADIVOSTOK \": (43.114493, 131.886231),\n",
    "    \"D. 88, PR-KT ZOI KOSMODEM AZOV G      \": (47.100637, 39.419676),\n",
    "    'D. 123, UL. KRASNOARMEISK BLAGOVESHCHE': (50.269183, 127.539301),\n",
    "    'D. 29, NAB. SEREBRYANICHE MOSKVA G    ': (55.750581, 37.652528),\n",
    "    \"D. 142V, UL. RASKOL'NIKOV SARAPUL G   \": (56.476519, 53.815355),\n",
    "}\n",
    "\n",
    "for key in text2coord:\n",
    "    data.loc[data['address'] == key, 'lat'] = text2coord[key][0]\n",
    "    data.loc[data['address'] == key, 'long'] = text2coord[key][1]\n",
    "    \n",
    "data['coord'] = data[['lat', 'long']].apply(lambda x: (x['lat'], x['long']), axis=1)\n",
    "\n",
    "coord2idx = {j: i for i, j in enumerate(data['coord'].unique())}\n",
    "data['coord_idx'] = data['coord'].map(coord2idx)"
   ]
  },
  {
   "cell_type": "code",
   "execution_count": null,
   "metadata": {},
   "outputs": [],
   "source": [
    "data.to_csv(\"./data/prep/data.csv\", index=False)"
   ]
  },
  {
   "cell_type": "markdown",
   "metadata": {},
   "source": [
    "### Окрестности точек выборки из OpenStreetMaps"
   ]
  },
  {
   "cell_type": "code",
   "execution_count": null,
   "metadata": {},
   "outputs": [],
   "source": [
    "# заняло 1 час 17 минут 17 секунд\n",
    "\n",
    "def get_info(lat, long, delta=0.01): # returns points with (longitude, latitude)\n",
    "    info = api.get('node(' + str(lat - delta) + ',' + str(long - delta) \\\n",
    "                    + ',' + str(lat + delta) + ',' + str(long + delta) + ')')\n",
    "    return [(node['geometry']['coordinates'], node['properties']) \n",
    "            for node in info['features'] if len(node['properties']) > 0]\n",
    "\n",
    "api = overpass.API(endpoint='https://overpass.kumi.systems/api/interpreter', timeout=1000)\n",
    "\n",
    "DELTA = 0.005\n",
    "errors = []\n",
    "osm_data = dict()\n",
    "for row in tqdm_notebook(data[['coord', 'coord_idx']].drop_duplicates().values):\n",
    "    lat = row[0][0]\n",
    "    lon = row[0][1]\n",
    "    try:\n",
    "        tmp = get_info(lat, lon, delta=DELTA)\n",
    "        tmp = [(node[0], node[1], distance([lat, lon], [node[0][1], node[0][0]])) \n",
    "                         for node in tmp]\n",
    "        osm_data[row[1]] = sorted(tmp, key = lambda x: x[2])\n",
    "    except Exception as e:\n",
    "        errors.append(row)\n",
    "\n",
    "with open('./data/prep/osm_data_0.005.pickle', 'wb') as fout:\n",
    "    pickle.dump(osm_data, fout, protocol=pickle.HIGHEST_PROTOCOL)"
   ]
  }
 ],
 "metadata": {
  "kernelspec": {
   "display_name": "Python 3",
   "language": "python",
   "name": "python3"
  },
  "language_info": {
   "codemirror_mode": {
    "name": "ipython",
    "version": 3
   },
   "file_extension": ".py",
   "mimetype": "text/x-python",
   "name": "python",
   "nbconvert_exporter": "python",
   "pygments_lexer": "ipython3",
   "version": "3.7.3"
  }
 },
 "nbformat": 4,
 "nbformat_minor": 2
}
