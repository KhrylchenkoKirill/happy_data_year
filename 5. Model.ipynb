{
 "cells": [
  {
   "cell_type": "markdown",
   "metadata": {},
   "source": [
    "### Создание модели\n",
    "\n",
    "Здесь используется мой небольшой модуль, в котором лежат методы валидации, логирование моделей, и оболочка над LGBMRegressor.\n",
    "\n",
    "Также при запуске обучения конкретных модулей отображаемая ячейка изменится следующим образом --- будет показано на 10 итераций меньше. Это связано с тем, что раньше там стоял параметр gap=10 (для первой модели 5), который заставлял модели обучаться до тех пор, пока 10 итераций подряд не будет улучшений, и потом откатывать все к состоянии на 10 итераций назад.\n",
    "\n",
    "Дабы не обучать эти лишние итерации, я сразу поставил нужное значение n_seeds\n",
    "\n",
    "На всякий случай в папке submits уже лежит финальный сабмит под названием final_submit.csv, на случай если организаторы не захотят сидеть 3 часа обучая модели.\n",
    "\n",
    "#### Примерное время обучения всех моделей - 3 часа."
   ]
  },
  {
   "cell_type": "code",
   "execution_count": 3,
   "metadata": {},
   "outputs": [],
   "source": [
    "import numpy as np\n",
    "\n",
    "from sklearn.metrics import mean_squared_error  \n",
    "\n",
    "from utils.predict import PredictorPipeline\n",
    "from utils.logging import *"
   ]
  },
  {
   "cell_type": "code",
   "execution_count": 5,
   "metadata": {},
   "outputs": [],
   "source": [
    "data = pd.read_csv(\"./data/prep_data.csv\")\n",
    "\n",
    "features = np.load('./data/prep_features.npy').tolist()\n",
    "features_dict = np.load('./data/prep_features_dict.npy').item()\n",
    "\n",
    "val_groups = data.loc[data.isTrain, 'group'].values\n",
    "test_groups = data.loc[~data.isTrain, 'group'].values\n",
    "y = data.loc[data.isTrain, 'target'].values\n",
    "logger = Logger(data)"
   ]
  },
  {
   "cell_type": "code",
   "execution_count": 6,
   "metadata": {},
   "outputs": [],
   "source": [
    "params = {\n",
    "    'model': {\n",
    "        'n_estimators': 100000,\n",
    "        'learning_rate': 0.1,\n",
    "        'max_depth': 31,\n",
    "        'num_leaves': 31,\n",
    "        'colsample_bytree': 0.55,\n",
    "        'min_child_samples': 11,\n",
    "        'n_jobs': -1\n",
    "    },\n",
    "    \n",
    "    'validation': {\n",
    "        'n_intervals': 10,\n",
    "        'n_splits': 10,\n",
    "        'mode': 'hierarchy'\n",
    "    },\n",
    "    \n",
    "    'predict': {\n",
    "        'predictors': [\n",
    "            {'name': 'group_kkt'},\n",
    "            {'name': 'group_linear'}\n",
    "        ],\n",
    "        'verbose': False,\n",
    "        'mode': 'RegCV'\n",
    "    }\n",
    "}\n",
    "\n",
    "def get_subsample(features_dict, r):\n",
    "    features = []\n",
    "    chosen_sections = r.choice(list(features_dict), size = 9, replace=False).tolist()\n",
    "    for section in chosen_sections:\n",
    "        features += features_dict[section]\n",
    "    return features"
   ]
  },
  {
   "cell_type": "code",
   "execution_count": 6,
   "metadata": {},
   "outputs": [
    {
     "name": "stdout",
     "output_type": "stream",
     "text": [
      "==================================\n",
      "  seed  |    score     |   time   \n",
      "==================================\n",
      "     1  |  0.00169963  |  92.1064\n",
      "     2  |  0.00167479  |  181.3565\n",
      "     3  |  0.00166309  |  291.4415\n",
      "     4  |  0.00166378  |  385.5315\n",
      "     5  |  0.00166279  |  519.0933\n",
      "     6  |  0.00166278  |  610.8820\n",
      "     7  |  0.00166420  |  700.8786\n",
      "     8  |  0.00166288  |  788.1075\n",
      "     9  |  0.00166043  |  898.0163\n",
      "    10  |  0.00166028  |  999.2295\n",
      "    11  |  0.00165970  |  1096.6546\n",
      "    12  |  0.00166016  |  1201.5679\n",
      "    13  |  0.00165821  |  1295.8202\n",
      "    14  |  0.00165666  |  1393.6087\n",
      "    15  |  0.00165703  |  1477.2859\n",
      "    16  |  0.00165711  |  1577.6979\n",
      "    17  |  0.00165744  |  1675.2015\n",
      "    18  |  0.00165770  |  1774.2521\n",
      "    19  |  0.00165757  |  1874.7265\n",
      "----------------------------------\n",
      "   CV   |  0.00165666  |  1874.7265  \n",
      "==================================\n",
      "\n"
     ]
    },
    {
     "data": {
      "text/plain": [
       "0.0016566554295115163"
      ]
     },
     "execution_count": 6,
     "metadata": {},
     "output_type": "execute_result"
    }
   ],
   "source": [
    "logger.get_valBagger(data, features_dict, params, n_seeds=14, n_inner=6, \n",
    "                     subsample_func=get_subsample, random_state=13, verbose=True)"
   ]
  },
  {
   "cell_type": "code",
   "execution_count": 4,
   "metadata": {},
   "outputs": [
    {
     "name": "stdout",
     "output_type": "stream",
     "text": [
      "==================================\n",
      "  seed  |    score     |   time   \n",
      "==================================\n",
      "     1  |  0.00173458  |  89.9818\n",
      "     2  |  0.00167007  |  192.5282\n",
      "     3  |  0.00165595  |  284.9978\n",
      "     4  |  0.00165435  |  382.5178\n",
      "     5  |  0.00165051  |  472.1429\n",
      "     6  |  0.00165150  |  571.7281\n",
      "     7  |  0.00164864  |  678.5751\n",
      "     8  |  0.00164859  |  779.9419\n",
      "     9  |  0.00165134  |  879.3196\n",
      "    10  |  0.00164987  |  969.4479\n",
      "    11  |  0.00164947  |  1069.0945\n",
      "    12  |  0.00164850  |  1170.1442\n",
      "    13  |  0.00164846  |  1259.9258\n",
      "    14  |  0.00164873  |  1354.1642\n",
      "    15  |  0.00164903  |  1436.0694\n",
      "    16  |  0.00164910  |  1519.0196\n",
      "    17  |  0.00164875  |  1621.1983\n",
      "    18  |  0.00164869  |  1717.5029\n",
      "    19  |  0.00164695  |  1813.2136\n",
      "    20  |  0.00164732  |  1907.7923\n",
      "    21  |  0.00164760  |  2005.5148\n",
      "    22  |  0.00164702  |  2092.3365\n",
      "    23  |  0.00164713  |  2183.4729\n",
      "    24  |  0.00164748  |  2285.8482\n",
      "    25  |  0.00164748  |  2394.2563\n",
      "    26  |  0.00164841  |  2500.2572\n",
      "    27  |  0.00164848  |  2587.7796\n",
      "    28  |  0.00164828  |  2667.1657\n",
      "    29  |  0.00164828  |  2769.2579\n",
      "----------------------------------\n",
      "   CV   |  0.00164695  |  2769.2579  \n",
      "==================================\n",
      "\n"
     ]
    },
    {
     "data": {
      "text/plain": [
       "0.0016469482601292357"
      ]
     },
     "execution_count": 4,
     "metadata": {},
     "output_type": "execute_result"
    }
   ],
   "source": [
    "logger.get_valBagger(data, features_dict, params, n_seeds=19, n_inner=6, \n",
    "                     subsample_func=get_subsample, random_state=1, verbose=True)"
   ]
  },
  {
   "cell_type": "code",
   "execution_count": 5,
   "metadata": {},
   "outputs": [
    {
     "name": "stdout",
     "output_type": "stream",
     "text": [
      "==================================\n",
      "  seed  |    score     |   time   \n",
      "==================================\n",
      "     1  |  0.00169963  |  90.9875\n",
      "     2  |  0.00167479  |  166.1905\n",
      "     3  |  0.00166309  |  257.0361\n",
      "     4  |  0.00166378  |  344.5572\n",
      "     5  |  0.00166279  |  464.1598\n",
      "     6  |  0.00166278  |  553.0970\n",
      "     7  |  0.00166420  |  639.0452\n",
      "     8  |  0.00166288  |  722.6239\n",
      "     9  |  0.00166043  |  830.6898\n",
      "    10  |  0.00166028  |  931.7930\n",
      "    11  |  0.00165970  |  1034.7917\n",
      "    12  |  0.00166016  |  1142.6486\n",
      "    13  |  0.00165821  |  1242.8465\n",
      "    14  |  0.00165666  |  1346.7593\n",
      "    15  |  0.00165703  |  1429.1291\n",
      "    16  |  0.00165711  |  1528.3064\n",
      "    17  |  0.00165744  |  1631.5483\n",
      "    18  |  0.00165770  |  1738.8460\n",
      "    19  |  0.00165757  |  1836.3300\n",
      "    20  |  0.00165676  |  1948.1752\n",
      "    21  |  0.00165660  |  2059.5111\n",
      "    22  |  0.00164980  |  2164.2847\n",
      "    23  |  0.00165040  |  2274.6016\n",
      "    24  |  0.00165033  |  2369.9549\n",
      "    25  |  0.00164863  |  2475.9898\n",
      "    26  |  0.00164651  |  2561.7407\n",
      "    27  |  0.00164681  |  2663.6367\n",
      "    28  |  0.00164681  |  2761.5491\n",
      "    29  |  0.00164625  |  2868.5544\n",
      "    30  |  0.00164626  |  2972.7995\n",
      "    31  |  0.00164654  |  3101.4120\n",
      "    32  |  0.00164658  |  3212.5634\n",
      "    33  |  0.00164666  |  3323.1330\n",
      "    34  |  0.00164702  |  3439.5071\n",
      "    35  |  0.00164673  |  3554.3513\n",
      "    36  |  0.00164639  |  3670.3697\n",
      "    37  |  0.00164637  |  3776.0107\n",
      "    38  |  0.00164677  |  3869.9364\n",
      "    39  |  0.00164695  |  3969.8473\n",
      "----------------------------------\n",
      "   CV   |  0.00164625  |  3969.8473  \n",
      "==================================\n",
      "\n"
     ]
    },
    {
     "data": {
      "text/plain": [
       "0.0016462543997228785"
      ]
     },
     "execution_count": 5,
     "metadata": {},
     "output_type": "execute_result"
    }
   ],
   "source": [
    "logger.get_valBagger(data, features_dict, params, n_seeds=29, n_inner=6, \n",
    "             a        subsample_func=get_subsample, random_state=13, verbose=True)"
   ]
  },
  {
   "cell_type": "code",
   "execution_count": 6,
   "metadata": {},
   "outputs": [
    {
     "name": "stdout",
     "output_type": "stream",
     "text": [
      "==================================\n",
      "  seed  |    score     |   time   \n",
      "==================================\n",
      "     1  |  0.00174686  |  94.0955\n",
      "     2  |  0.00171519  |  179.9243\n",
      "     3  |  0.00168983  |  274.5197\n",
      "     4  |  0.00167881  |  356.1254\n",
      "     5  |  0.00166694  |  455.6436\n",
      "     6  |  0.00166604  |  554.3429\n",
      "     7  |  0.00166075  |  654.3102\n",
      "     8  |  0.00166130  |  744.6810\n",
      "     9  |  0.00166059  |  842.1897\n",
      "    10  |  0.00165883  |  958.3920\n",
      "    11  |  0.00165869  |  1063.6854\n",
      "    12  |  0.00165933  |  1144.4917\n",
      "    13  |  0.00165861  |  1226.3593\n",
      "    14  |  0.00165630  |  1336.3153\n",
      "    15  |  0.00165724  |  1447.6749\n",
      "    16  |  0.00165770  |  1561.5320\n",
      "    17  |  0.00165738  |  1646.3433\n",
      "    18  |  0.00165415  |  1737.4341\n",
      "    19  |  0.00165377  |  1830.4405\n",
      "    20  |  0.00164515  |  1942.8112\n",
      "    21  |  0.00164522  |  2033.1121\n",
      "    22  |  0.00164548  |  2122.7995\n",
      "    23  |  0.00164569  |  2216.0493\n",
      "    24  |  0.00164587  |  2317.8035\n",
      "    25  |  0.00164645  |  2411.2977\n",
      "    26  |  0.00164657  |  2515.4374\n",
      "    27  |  0.00164632  |  2599.6112\n",
      "    28  |  0.00164697  |  2698.3031\n",
      "    29  |  0.00164682  |  2804.6430\n",
      "    30  |  0.00164616  |  2906.4000\n",
      "----------------------------------\n",
      "   CV   |  0.00164515  |  2906.4000  \n",
      "==================================\n",
      "\n"
     ]
    },
    {
     "data": {
      "text/plain": [
       "0.0016451499376465588"
      ]
     },
     "execution_count": 6,
     "metadata": {},
     "output_type": "execute_result"
    }
   ],
   "source": [
    "logger.get_valBagger(data, features_dict, params, n_seeds=20, n_inner=6, \n",
    "                     subsample_func=get_subsample, random_state=8, verbose=True)"
   ]
  },
  {
   "cell_type": "code",
   "execution_count": 14,
   "metadata": {},
   "outputs": [
    {
     "data": {
      "text/plain": [
       "0.0016392942570253376"
      ]
     },
     "execution_count": 14,
     "metadata": {},
     "output_type": "execute_result"
    }
   ],
   "source": [
    "predictors = [\n",
    "    {'name': 'group_kkt'},\n",
    "]\n",
    "\n",
    "logger.set_predictor(predictors)"
   ]
  },
  {
   "cell_type": "code",
   "execution_count": 11,
   "metadata": {},
   "outputs": [],
   "source": [
    "data = pd.read_csv(\"./data/prep_data_old.csv\")\n",
    "features = np.load('./data/prep_features_old.npy').tolist()\n",
    "features_dict = np.load('./data/prep_features_dict_old.npy').item()"
   ]
  },
  {
   "cell_type": "code",
   "execution_count": 13,
   "metadata": {},
   "outputs": [
    {
     "name": "stdout",
     "output_type": "stream",
     "text": [
      "==================================\n",
      "  seed  |    score     |   time   \n",
      "==================================\n",
      "     1  |  0.00171218  |  90.5572\n",
      "     2  |  0.00168330  |  168.3438\n",
      "     3  |  0.00167282  |  250.4159\n",
      "     4  |  0.00166354  |  335.0821\n",
      "     5  |  0.00165816  |  430.1286\n",
      "     6  |  0.00165887  |  527.5874\n",
      "     7  |  0.00165517  |  620.1058\n",
      "     8  |  0.00165551  |  709.5684\n",
      "     9  |  0.00165723  |  810.9185\n",
      "    10  |  0.00165683  |  892.5135\n",
      "    11  |  0.00165594  |  971.6136\n",
      "    12  |  0.00165670  |  1054.7332\n",
      "    13  |  0.00165621  |  1160.1304\n",
      "    14  |  0.00165683  |  1245.1661\n",
      "    15  |  0.00165756  |  1324.6345\n",
      "    16  |  0.00165643  |  1415.9009\n",
      "    17  |  0.00165648  |  1512.5611\n",
      "----------------------------------\n",
      "   CV   |  0.00165517  |  1512.5611  \n",
      "==================================\n",
      "\n"
     ]
    },
    {
     "data": {
      "text/plain": [
       "0.0016551733814847743"
      ]
     },
     "execution_count": 13,
     "metadata": {},
     "output_type": "execute_result"
    }
   ],
   "source": [
    "logger.get_valBagger(data, features_dict, params, n_seeds=7, n_inner=6, \n",
    "                     subsample_func=get_subsample, random_state=19, verbose=True)"
   ]
  },
  {
   "cell_type": "code",
   "execution_count": 15,
   "metadata": {},
   "outputs": [
    {
     "name": "stdout",
     "output_type": "stream",
     "text": [
      "==================================\n",
      "  seed  |    score     |   time   \n",
      "==================================\n",
      "     1  |  0.00171598  |  96.6307\n",
      "     2  |  0.00168567  |  179.4837\n",
      "     3  |  0.00167228  |  278.7463\n",
      "     4  |  0.00167144  |  363.9301\n",
      "     5  |  0.00166841  |  442.5273\n",
      "     6  |  0.00166610  |  538.8878\n",
      "     7  |  0.00166284  |  635.2601\n",
      "     8  |  0.00166387  |  710.9558\n",
      "     9  |  0.00166446  |  804.8147\n",
      "    10  |  0.00166485  |  909.0932\n",
      "    11  |  0.00166454  |  1081.6740\n",
      "    12  |  0.00166505  |  1212.3069\n",
      "    13  |  0.00165780  |  1346.7554\n",
      "    14  |  0.00165693  |  1436.6316\n",
      "    15  |  0.00165763  |  1504.0823\n",
      "    16  |  0.00165772  |  1595.2193\n",
      "    17  |  0.00165858  |  1684.6330\n",
      "    18  |  0.00166021  |  1769.2941\n",
      "    19  |  0.00165949  |  1871.2042\n",
      "    20  |  0.00165688  |  1963.7445\n",
      "    21  |  0.00165740  |  2051.6472\n",
      "    22  |  0.00165713  |  2127.9545\n",
      "    23  |  0.00165688  |  2207.8877\n",
      "    24  |  0.00165698  |  2301.2478\n",
      "    25  |  0.00165732  |  2378.4440\n",
      "    26  |  0.00165758  |  2473.1001\n",
      "    27  |  0.00165776  |  2567.2126\n",
      "    28  |  0.00165685  |  2657.7067\n",
      "----------------------------------\n",
      "   CV   |  0.00165685  |  2657.7067  \n",
      "==================================\n",
      "\n"
     ]
    },
    {
     "data": {
      "text/plain": [
       "0.001656845403811109"
      ]
     },
     "execution_count": 15,
     "metadata": {},
     "output_type": "execute_result"
    }
   ],
   "source": [
    "logger.get_valBagger(data, features_dict, params, n_seeds=18, n_inner=6, \n",
    "                     subsample_func=get_subsample, random_state=1, verbose=True)"
   ]
  },
  {
   "cell_type": "code",
   "execution_count": 24,
   "metadata": {},
   "outputs": [
    {
     "data": {
      "text/plain": [
       "0.0016371637232911456"
      ]
     },
     "execution_count": 24,
     "metadata": {},
     "output_type": "execute_result"
    }
   ],
   "source": [
    "predictors = [\n",
    "    {'name': 'group_kkt'},\n",
    "    {'name': 'group_linear'}\n",
    "]\n",
    "\n",
    "logger.set_predictor(predictors, mode='RegCV')"
   ]
  },
  {
   "cell_type": "code",
   "execution_count": 22,
   "metadata": {
    "scrolled": true
   },
   "outputs": [
    {
     "data": {
      "text/plain": [
       "'./logger_10_1.pickle'"
      ]
     },
     "execution_count": 22,
     "metadata": {},
     "output_type": "execute_result"
    }
   ],
   "source": [
    "#logger.save('./logger_10_1.pickle')"
   ]
  },
  {
   "cell_type": "code",
   "execution_count": 23,
   "metadata": {},
   "outputs": [],
   "source": [
    "submit = pd.DataFrame(logger.get_test_preds(), columns=['target'])\n",
    "\n",
    "submit.to_csv('./data/submits/submit.csv')"
   ]
  }
 ],
 "metadata": {
  "kernelspec": {
   "display_name": "Python 3",
   "language": "python",
   "name": "python3"
  },
  "language_info": {
   "codemirror_mode": {
    "name": "ipython",
    "version": 3
   },
   "file_extension": ".py",
   "mimetype": "text/x-python",
   "name": "python",
   "nbconvert_exporter": "python",
   "pygments_lexer": "ipython3",
   "version": "3.7.3"
  }
 },
 "nbformat": 4,
 "nbformat_minor": 2
}
